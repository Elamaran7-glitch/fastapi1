{
 "cells": [
  {
   "cell_type": "code",
   "execution_count": 1,
   "metadata": {},
   "outputs": [
    {
     "name": "stdout",
     "output_type": "stream",
     "text": [
      "f34cc88432c92cb7c85e5ad569ae8b9a\n"
     ]
    }
   ],
   "source": [
    "import secrets\n",
    "\n",
    "# Generate a random token of 16 bytes (default)\n",
    "token = secrets.token_hex(16)\n",
    "print(token)\n"
   ]
  },
  {
   "cell_type": "code",
   "execution_count": 2,
   "metadata": {},
   "outputs": [
    {
     "name": "stdout",
     "output_type": "stream",
     "text": [
      "Random token (default 32 bytes): f607fb880f63d9d691f2ee7cd336527fbe8ae4c5538b50dcaec21934f9428922\n"
     ]
    }
   ],
   "source": [
    "import secrets\n",
    "\n",
    "# Generate a random token with the default size\n",
    "token = secrets.token_hex()\n",
    "print(f\"Random token (default 32 bytes): {token}\")\n"
   ]
  },
  {
   "cell_type": "code",
   "execution_count": 3,
   "metadata": {},
   "outputs": [
    {
     "name": "stdout",
     "output_type": "stream",
     "text": [
      "Random token (8 bytes): 81331f9e56c15ded\n"
     ]
    }
   ],
   "source": [
    "import secrets\n",
    "\n",
    "# Generate a random token with a specific number of bytes\n",
    "token = secrets.token_hex(8)  # 8 bytes of randomness, 16 characters long\n",
    "print(f\"Random token (8 bytes): {token}\")\n"
   ]
  }
 ],
 "metadata": {
  "kernelspec": {
   "display_name": "Python 3",
   "language": "python",
   "name": "python3"
  },
  "language_info": {
   "codemirror_mode": {
    "name": "ipython",
    "version": 3
   },
   "file_extension": ".py",
   "mimetype": "text/x-python",
   "name": "python",
   "nbconvert_exporter": "python",
   "pygments_lexer": "ipython3",
   "version": "3.11.9"
  }
 },
 "nbformat": 4,
 "nbformat_minor": 2
}
